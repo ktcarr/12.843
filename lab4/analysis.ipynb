{
 "cells": [
  {
   "cell_type": "code",
   "execution_count": 1,
   "id": "2e99be20",
   "metadata": {},
   "outputs": [],
   "source": [
    "import numpy as np\n",
    "import pandas as pd\n",
    "import matplotlib.pyplot as plt\n",
    "import seaborn as sns\n",
    "sns.set()\n",
    "import gsw\n",
    "import matplotlib as mpl\n",
    "mpl.rcParams['figure.dpi'] = 150"
   ]
  },
  {
   "cell_type": "markdown",
   "id": "32ee71ee",
   "metadata": {},
   "source": [
    "# To-do\n",
    "- estimate wavenumber with max growth rate for each simulation\n",
    "    - requires knowing rotation rate...\n",
    "- look at temperature data..."
   ]
  },
  {
   "cell_type": "markdown",
   "id": "a3ef6a35",
   "metadata": {},
   "source": [
    "# Dimensions"
   ]
  },
  {
   "cell_type": "markdown",
   "id": "4b433bdb",
   "metadata": {},
   "source": [
    "Parameters/dimensions of bucket (inches):\n",
    "\\begin{align*}\n",
    "    r_{can} &= 3.5\\\\\n",
    "    r_{inner}  &= 9\\\\\n",
    "    %r_{outer} &= 12\\\\\n",
    "    H &= 5\n",
    "\\end{align*}\n",
    "Convert to cm:"
   ]
  },
  {
   "cell_type": "code",
   "execution_count": 2,
   "id": "5f978edb",
   "metadata": {},
   "outputs": [
    {
     "name": "stdout",
     "output_type": "stream",
     "text": [
      "measurements in m:\n",
      "r_can   = 0.089\n",
      "r_inner = 0.229\n",
      "H       = 0.133\n"
     ]
    }
   ],
   "source": [
    "cm_per_in  = 2.54\n",
    "r_can_in   = 3.5\n",
    "r_inner_in = 9\n",
    "H_in       = 5.25\n",
    "r_can, r_inner, H = [i*cm_per_in/100 for i in [r_can_in, r_inner_in, H_in]]\n",
    "print('measurements in m:')\n",
    "print(f'r_can   = {r_can:.3f}')\n",
    "print(f'r_inner = {r_inner:.3f}')\n",
    "print(f'H       = {H:.3f}')\n",
    "\n",
    "radii = np.array([r_can, (r_can*3+r_inner)/4, (r_can+r_inner)/2, r_inner])"
   ]
  },
  {
   "cell_type": "markdown",
   "id": "d3b48b24",
   "metadata": {},
   "source": [
    "#### Sensor locations"
   ]
  },
  {
   "cell_type": "code",
   "execution_count": 3,
   "id": "25532001",
   "metadata": {},
   "outputs": [
    {
     "name": "stdout",
     "output_type": "stream",
     "text": [
      "[[0.0254  0.10795]\n",
      " [0.00635 0.08255]\n",
      " [0.01905 0.09525]\n",
      " [0.04445 0.1143 ]]\n"
     ]
    }
   ],
   "source": [
    "sensor_hgt_in = np.array([[1.0 , 4.25], # inches\n",
    "                          [2.0 , 5.0],\n",
    "                          [1.5 , 4.5],\n",
    "                          [0.75, 3.5]])\n",
    "sensor_hgt_in = sensor_hgt_in[:,::-1] # reverse order so that height of upper sensor is in left column\n",
    "sensor_depth  = (H_in-sensor_hgt_in) * cm_per_in / 100 # m\n",
    "print(sensor_depth)"
   ]
  },
  {
   "cell_type": "markdown",
   "id": "94f43b67",
   "metadata": {},
   "source": [
    "### Estimate $f_0$ from movies."
   ]
  },
  {
   "cell_type": "markdown",
   "id": "21257d90",
   "metadata": {},
   "source": [
    "Observed minutes per revolution"
   ]
  },
  {
   "cell_type": "code",
   "execution_count": 4,
   "id": "769c64d6",
   "metadata": {},
   "outputs": [],
   "source": [
    "## 100 experiment\n",
    "t1_min = 6+(47/60)\n",
    "t2_min = 8+(54/60)\n",
    "T100 = t2_min-t1_min\n",
    "\n",
    "## 300 experiment\n",
    "t3_min = 17/60\n",
    "t4_min = 58/60\n",
    "T300 = t4_min-t3_min\n",
    "\n",
    "## 500 experiment\n",
    "T500 = (50-25)/60"
   ]
  },
  {
   "cell_type": "markdown",
   "id": "b7edabee",
   "metadata": {},
   "source": [
    "### convert to radians/sec"
   ]
  },
  {
   "cell_type": "code",
   "execution_count": 5,
   "id": "8cb81208",
   "metadata": {},
   "outputs": [
    {
     "name": "stdout",
     "output_type": "stream",
     "text": [
      "stated rate    rad/s\n",
      "100            0.05\n",
      "300            0.15\n",
      "500            0.25\n",
      "1000            0.49\n",
      "2000            0.99\n",
      "3000            1.48\n"
     ]
    }
   ],
   "source": [
    "def convert_to_rad_per_sec(T):\n",
    "    '''convert period from minutes per revolution to radians/sec'''\n",
    "    sec_per_rev = T*60\n",
    "    rad_per_sec = 2*np.pi / sec_per_rev\n",
    "    return rad_per_sec\n",
    "print('stated rate    rad/s')\n",
    "for i in [1,3,5,10,20,30]:\n",
    "    print(f'{int(1e2*i)}            {convert_to_rad_per_sec(T100/i):.2f}')"
   ]
  },
  {
   "cell_type": "markdown",
   "id": "83c7f610",
   "metadata": {},
   "source": [
    "# Wavenumber of max growth"
   ]
  },
  {
   "cell_type": "markdown",
   "id": "cfb5a386",
   "metadata": {},
   "source": [
    "Buoyancy frequency computed as:\n",
    "\\begin{align*}\n",
    "    N^2 &= g^2\\rho\\frac{\\alpha \\Delta T}{\\Delta P}\n",
    "\\end{align*}"
   ]
  },
  {
   "cell_type": "markdown",
   "id": "1a8d90a3",
   "metadata": {},
   "source": [
    "Wavenumber which maximizes growth rate:\n",
    "\\begin{align*}\n",
    "    \\kappa = 2\\frac{f_0}{N_0H}\n",
    "\\end{align*}"
   ]
  },
  {
   "cell_type": "code",
   "execution_count": 6,
   "id": "cc3fc70d",
   "metadata": {},
   "outputs": [
    {
     "name": "stdout",
     "output_type": "stream",
     "text": [
      "kappa_max = 1.6\n"
     ]
    }
   ],
   "source": [
    "f0       = .15\n",
    "t        = np.array([17.5, 14])[:,None] # temperature (deg C)\n",
    "SA       = np.zeros_like(t)             # Salinity (zero)\n",
    "p        = np.array([.03, H])[:,None] # pressure (based on depth of tank)\n",
    "CT       = gsw.CT_from_t(SA, t, p)      # conservative temperature\n",
    "N2,p_mid = gsw.Nsquared(SA,CT,p)\n",
    "N0       = np.sqrt(N2)\n",
    "\n",
    "## Compute kappa\n",
    "r_mid          = radii[2] # mid-point between can wall and edge of inner bucket\n",
    "circ           = 2 * np.pi * r_mid # max wavelength in theta-direction (circumference of can; units of m)\n",
    "kappa_rad_m    = 2*f0/(N0*H)       # units of radians/m\n",
    "kappa_cyc_m    = kappa_rad_m / (2*np.pi) # units of cycles/m\n",
    "kappa          = kappa_cyc_m * circ # wavenumber of maximum growth (\"planetary wavenumber\")\n",
    "\n",
    "print(f'kappa_max = {kappa.item():.1f}')"
   ]
  },
  {
   "cell_type": "markdown",
   "id": "df477c8e",
   "metadata": {},
   "source": [
    "# Load real temperature data"
   ]
  },
  {
   "cell_type": "code",
   "execution_count": 7,
   "id": "394c4a6a",
   "metadata": {},
   "outputs": [],
   "source": [
    "T_data = pd.ExcelFile('data.xlsx')\n",
    "T_data = pd.read_excel(T_data, sheet_name=None)\n",
    "old_keys = list(T_data)\n",
    "R_vals   = [2000,500,300,100]\n",
    "T_data   = {k_new : T_data[k_old] for k_new, k_old in zip(R_vals, old_keys)}\n",
    "time_s   = T_data[100].iloc[:,0].values\n",
    "time_min = time_s/60"
   ]
  },
  {
   "cell_type": "code",
   "execution_count": 33,
   "id": "932f68e6",
   "metadata": {},
   "outputs": [
    {
     "name": "stderr",
     "output_type": "stream",
     "text": [
      "/home/theo/miniconda3/envs/torch_env/lib/python3.7/site-packages/ipykernel_launcher.py:8: RuntimeWarning: invalid value encountered in sqrt\n",
      "  \n"
     ]
    }
   ],
   "source": [
    "def get_N0(T,p):\n",
    "    '''Compute buoyancy frequency given Temperature and pressure.\n",
    "    Each column corresponds to different sensor'''\n",
    "    SA  = np.zeros_like(T)              # salinity = 0\n",
    "    p   = np.tile(p, (T.shape[0],1))      # reshape to match temperature\n",
    "    CT  = gsw.CT_from_t(SA,  T, p) # conservative temperature\n",
    "    N2,_= gsw.Nsquared( SA, CT, p, axis=1)   # buoyancy frequency squared\n",
    "    return np.sqrt(N2)\n",
    "\n",
    "def get_f0(R):\n",
    "    '''Compute f0 based on \"R\" value'''\n",
    "    Omega = R/2000\n",
    "    return 2*Omega\n",
    "\n",
    "def get_Ld(T,p,R,H):\n",
    "    '''Compute deformation radius'''\n",
    "    N  = get_N0(T,p)\n",
    "    f0 = get_f0(R)\n",
    "    return N*H/f0\n",
    "\n",
    "def get_kappa(Ld, radius):\n",
    "    '''Compute max wavenumber based on deformation radius (Ld) and distance from center (radius).\n",
    "    Distance from center matters because this value is the number of waves which \"fit\" in the domain'''\n",
    "    circ        = 1.6 * np.pi * radius # circumference of can; units of m\n",
    "    kappa_rad_m = 2/Ld       # units of radians/m\n",
    "    kappa_cyc_m = kappa_rad_m / (2*np.pi) # units of cycles/m\n",
    "    kappa       = kappa_cyc_m * circ # wavenumber of maximum growth (\"planetary wavenumber\")\n",
    "    return kappa\n",
    "\n",
    "def compute_kappa(r):\n",
    "    ## Compute number of waves which fit in domain\n",
    "    X     = T_data[r]\n",
    "    kappas= []\n",
    "    Lds   = [] # deformation radii\n",
    "    for j in range(4):\n",
    "        i  = 2*(j+1) # index for upper sensor column\n",
    "        \n",
    "        # Compute buoyancy frequency\n",
    "        T     = X.iloc[:,i:i+2].values         # temp. at upper/lower sensor\n",
    "        p     = sensor_depth[j:j+1]           # get pressure at sensor locations\n",
    "        Ld    = get_Ld(T,p,r,H)\n",
    "        kappa = get_kappa(Ld, radii[j])\n",
    "        kappas.append(kappa)\n",
    "        Lds.append(Ld)\n",
    "    return np.concatenate(kappas, axis=1), np.concatenate(Lds, axis=1)\n",
    "\n",
    "# def compute_kappa(r):\n",
    "#     ## Compute number of waves which fit in domain\n",
    "#     X     = T_data[r]\n",
    "#     kappas= []\n",
    "#     Lds   = [] # deformation radii\n",
    "#     for j in range(4):\n",
    "#         i  = 2*(j+1) # index for upper sensor column\n",
    "        \n",
    "#         # Compute buoyancy frequency\n",
    "#         T  = X.iloc[:,i:i+2].values         # temp. at upper/lower sensor\n",
    "#         SA = np.zeros_like(T)              # salinity = 0\n",
    "#         p  = sensor_depth[j:j+1]           # get pressure at sensor locations\n",
    "#         p  = np.tile(p, (X.shape[0],1))      # reshape to match temperature\n",
    "#         CT       = gsw.CT_from_t(SA,  T, p) # conservative temperature\n",
    "#         N2,p_mid = gsw.Nsquared( SA, CT, p, axis=1)   # buoyancy frequency squared\n",
    "#         N0       = np.sqrt(N2)\n",
    "        \n",
    "#         ## Compute kappa\n",
    "#         radius = radii[j] # radius of sensor\n",
    "#         circ   = 2 * np.pi * radius # max wavelength in theta-direction (circumference of can; units of m)\n",
    "#         Omega  = r/2000 # rotation rate in rad/s\n",
    "#         f0     = 2*Omega\n",
    "#         Ld     = N0*H/f0\n",
    "#         kappa_rad_m    = 2/Ld       # units of radians/m\n",
    "#         kappa_cyc_m    = kappa_rad_m / (2*np.pi) # units of cycles/m\n",
    "#         kappa          = kappa_cyc_m * circ # wavenumber of maximum growth (\"planetary wavenumber\")\n",
    "#         kappas.append(kappa)\n",
    "#         Lds.append(Ld)\n",
    "#     return np.concatenate(kappas, axis=1), np.concatenate(Lds, axis=1)\n",
    "\n",
    "# kappas = np.stack([compute_kappa(r) for r in R_vals], axis=2)\n",
    "results = np.stack([np.stack(compute_kappa(r),axis=2) for r in R_vals], axis=2)\n",
    "kappas, Lds = results[...,0], results[...,1]\n",
    "\n",
    "# results2 = np.stack([np.stack(compute_kappa2(r),axis=2) for r in R_vals], axis=2)\n",
    "# kappas2, Lds2 = results2[...,0], results2[...,1]"
   ]
  },
  {
   "cell_type": "code",
   "execution_count": 35,
   "id": "c2203cc3",
   "metadata": {
    "scrolled": false
   },
   "outputs": [
    {
     "data": {
      "image/png": "[encoded data removed]",
      "text/plain": [
       "<Figure size 900x600 with 2 Axes>"
      ]
     },
     "metadata": {},
     "output_type": "display_data"
    }
   ],
   "source": [
    "ri    = 1    # index of rotation rate\n",
    "si    = -2    # index of sensor\n",
    "k_est = 8\n",
    "Ld_est= 5\n",
    "alpha=.05 # plotting hyper-params \n",
    "lw   = 1\n",
    "\n",
    "colors = sns.color_palette()\n",
    "fig,ax = plt.subplots()\n",
    "ax.set_title(r'$k_{max}$ and $L_d$ ($f_0=$'+f'{R_vals[ri]/2000:.2f})')\n",
    "\n",
    "### plot k\n",
    "ax.plot(time_min, kappas[:,si,ri], c=colors[0], label='theory')\n",
    "ax.axhline(k_est, c=colors[0],ls='--', label='obs.', lw=lw)\n",
    "ax.set_ylabel(r'$k_{max}$', c=colors[0])\n",
    "ax.set_xlabel('Time (min.)')\n",
    "# ax.set_ylim([0,30])\n",
    "\n",
    "### plot Ld\n",
    "ax2 = ax.twinx()\n",
    "ax2.grid(False)\n",
    "ax2.plot(time_min, 100*Lds[:,si,ri], label='L_d', c=colors[1])\n",
    "ax2.axhline(Ld_est, c=colors[1],ls='--', lw=lw)\n",
    "ax2.set_ylabel(r'$L_d$ (cm)', c=colors[1])\n",
    "# ax2.set_ylim([0,6])\n",
    "\n",
    "ax.set_yticks(np.linspace(ax.get_yticks()[0], ax.get_yticks()[-1], len(ax.get_yticks())))\n",
    "ax2.set_yticks(np.linspace(ax2.get_yticks()[0], ax2.get_yticks()[-1], len(ax.get_yticks())))\n",
    "\n",
    "ax.legend(loc='lower right')\n",
    "plt.show()"
   ]
  },
  {
   "cell_type": "markdown",
   "id": "afd1018c",
   "metadata": {},
   "source": [
    "### Old code"
   ]
  },
  {
   "cell_type": "code",
   "execution_count": null,
   "id": "61b060ae",
   "metadata": {},
   "outputs": [],
   "source": [
    "# c0, c1 = 5.75, 6.25\n",
    "# ax.axhline(c0, c=colors[0],ls='--', label='obs.', lw=lw)\n",
    "# ax.axhline(c1, c=colors[0],ls='--', lw=lw)\n",
    "# ax.fill_between(x=[time_min[0],time_min[-1]], y1=[c0,c0], y2=[c1,c1], alpha=alpha)"
   ]
  }
 ],
 "metadata": {
  "kernelspec": {
   "display_name": "torch_env",
   "language": "python",
   "name": "torch_env"
  },
  "language_info": {
   "codemirror_mode": {
    "name": "ipython",
    "version": 3
   },
   "file_extension": ".py",
   "mimetype": "text/x-python",
   "name": "python",
   "nbconvert_exporter": "python",
   "pygments_lexer": "ipython3",
   "version": "3.7.6"
  },
  "toc": {
   "base_numbering": 1,
   "nav_menu": {},
   "number_sections": true,
   "sideBar": true,
   "skip_h1_title": false,
   "title_cell": "Table of Contents",
   "title_sidebar": "Contents",
   "toc_cell": false,
   "toc_position": {},
   "toc_section_display": true,
   "toc_window_display": false
  }
 },
 "nbformat": 4,
 "nbformat_minor": 5
}
