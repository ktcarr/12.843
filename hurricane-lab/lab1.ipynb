{
 "cells": [
  {
   "cell_type": "code",
   "execution_count": 1,
   "metadata": {},
   "outputs": [],
   "source": [
    "data_fp = '/home/theo/research/courses/12.843/data' # path for data\n",
    "figs_fp = '/home/theo/research/courses/12.843/figs' # path to save figs"
   ]
  },
  {
   "cell_type": "code",
   "execution_count": 2,
   "metadata": {},
   "outputs": [],
   "source": [
    "import xarray as xr\n",
    "import scipy.io as sio\n",
    "from scipy.fft import fft, ifft\n",
    "from matplotlib.path import Path\n",
    "import pickle\n",
    "from scipy.stats import pearsonr\n",
    "from os.path import join\n",
    "import numpy as np\n",
    "from glob import glob\n",
    "import matplotlib as mpl\n",
    "import matplotlib.pyplot as plt\n",
    "import cmocean\n",
    "import cartopy.feature as cfeature\n",
    "import matplotlib.patches as mpatches\n",
    "import cartopy.crs as ccrs\n",
    "import pandas as pd\n",
    "from copy import deepcopy\n",
    "    \n",
    "### Specify figure resolution\n",
    "scale = 1\n",
    "mpl.rcParams['figure.dpi']        = 150 # set figure resolution (dots per inch) \n",
    "mpl.rcParams['hatch.linewidth']   = .15  * scale\n",
    "mpl.rcParams['axes.labelsize']    = 11  * scale\n",
    "mpl.rcParams['axes.titlesize']    = 13  * scale\n",
    "mpl.rcParams['xtick.labelsize']   = 9   * scale\n",
    "mpl.rcParams['ytick.labelsize']   = 9   * scale\n",
    "mpl.rcParams['lines.linewidth']   = 1   * scale\n",
    "mpl.rcParams['legend.fontsize']   = 8   * scale\n",
    "mpl.rcParams['patch.linewidth']   = 1   * scale\n",
    "mpl.rcParams['contour.linewidth'] =.5   * scale\n",
    "mpl.rcParams['axes.labelpad']     = 4 * scale   # space between label and axis\n",
    "mpl.rcParams['xtick.major.pad']   = 0 * scale   # distance to major tick label in points\n",
    "mpl.rcParams['ytick.major.pad']   = mpl.rcParams['xtick.major.pad']\n",
    "mpl.rcParams['lines.markersize']  = 3 * scale\n",
    "\n",
    "### cartopy-specific parameters\n",
    "gridline_width                    = .7 * scale\n",
    "border_width                      = .3 * scale\n",
    "\n",
    "### manually specified colorbar params\n",
    "tick_width                        = 0 * scale # controls size of tickmark next to labels\n",
    "tick_length                       = 2 * scale"
   ]
  },
  {
   "cell_type": "markdown",
   "metadata": {},
   "source": [
    "$\\zeta = \\frac{1}{R\\cos{\\theta}}\\Big[\\frac{\\partial}{\\theta}\\left(u\\cos{\\theta}\\right) - \\frac{\\partial v}{\\partial \\phi}\\Big]$"
   ]
  },
  {
   "cell_type": "markdown",
   "metadata": {},
   "source": [
    "Load data and convert to polar coords"
   ]
  },
  {
   "cell_type": "code",
   "execution_count": 3,
   "metadata": {},
   "outputs": [],
   "source": [
    "u = xr.open_dataset(join(data_fp,'era5_u_843.nc')).u.sel(latitude=slice(50,0),\n",
    "                                                         longitude=slice(220,260)).compute()\n",
    "v = xr.open_dataset(join(data_fp,'era5_v_843.nc')).v.sel(latitude=slice(50,0),\n",
    "                                                         longitude=slice(220,260)).compute()\n",
    "\n",
    "## Convert to polar coords\n",
    "lon            = deepcopy(u.longitude) # copy of original coords for plotting\n",
    "lat            = deepcopy(u.latitude)\n",
    "theta          = np.deg2rad(u.latitude).values\n",
    "phi            = np.deg2rad(u.longitude).values\n",
    "u              = u.rename({'longitude':'phi', 'latitude':'theta'})\n",
    "v              = v.rename({'longitude':'phi', 'latitude':'theta'})\n",
    "u['phi']       = phi\n",
    "v['phi']       = phi\n",
    "u['theta']     = theta\n",
    "v['theta']     = theta"
   ]
  },
  {
   "cell_type": "markdown",
   "metadata": {},
   "source": [
    "Compute vorticity"
   ]
  },
  {
   "cell_type": "code",
   "execution_count": 4,
   "metadata": {},
   "outputs": [],
   "source": [
    "R     = 6.37e6\n",
    "omega = 7.29e-5 \n",
    "f     = 2*omega * np.sin(u['theta'])\n",
    "\n",
    "## Relative vorticity\n",
    "dv_dphi             = -v.differentiate('phi')\n",
    "u_cos_theta         =  u * np.cos(u['theta'])\n",
    "\n",
    "dtheta_du_cos_theta = -u_cos_theta.differentiate('theta')\n",
    "zeta                = 1 / (R*np.cos(u['theta'])) * (dtheta_du_cos_theta - dv_dphi)\n",
    "\n",
    "## Absolute vorticity\n",
    "eta                 = zeta + f"
   ]
  },
  {
   "cell_type": "markdown",
   "metadata": {},
   "source": [
    "Plot"
   ]
  },
  {
   "cell_type": "code",
   "execution_count": 11,
   "metadata": {
    "scrolled": true,
    "tags": []
   },
   "outputs": [],
   "source": [
    "t=40\n",
    "for t in range(len(u.time)):\n",
    "    figsize=(5,4)\n",
    "    fig = plt.figure(figsize=figsize)\n",
    "    ax = fig.add_subplot(projection=ccrs.PlateCarree(central_longitude=180))\n",
    "    ax.set_extent([220,260,10,30], crs=ccrs.PlateCarree())\n",
    "    ax.coastlines(linewidth=border_width)\n",
    "    ax.add_feature(cfeature.BORDERS, zorder=1, linewidth = border_width)\n",
    "    gl = ax.gridlines(draw_labels=True, linestyle='--', alpha=.1, linewidth=gridline_width, color='k', zorder=1.05)\n",
    "    gl.top_labels = False\n",
    "    gl.right_labels = False\n",
    "    gl.xlabel_style = {'size': mpl.rcParams['xtick.labelsize']}\n",
    "    gl.ylabel_style = {'size': mpl.rcParams['ytick.labelsize']}\n",
    "\n",
    "    cp1 = ax.contourf(lon,lat, eta.isel(time=t, level=1),                  \n",
    "                      extend='both',  cmap='cmo.amp', levels=np.arange(0,10e-4,10e-5),transform=ccrs.PlateCarree())\n",
    "    cb = fig.colorbar(cp1, fraction=.02)\n",
    "\n",
    "    #### Quiver plot\n",
    "    n=7\n",
    "    x,y = np.meshgrid(lon[::n].values, lat[::n].values)\n",
    "    qv = ax.quiver(x,y, u.isel(time=t, level=1).values[::n,::n], \n",
    "                   v.isel(time=t, level=1).values[::n,::n], \n",
    "                   scale=.5e3, color='black', alpha=.6, transform=ccrs.PlateCarree(), pivot='middle')\n",
    "    fig.savefig(join(figs_fp, f'zoomed_{t:03d}.png'))\n",
    "    plt.close(fig)\n",
    "#     plt.show()\n",
    "#     break"
   ]
  },
  {
   "cell_type": "markdown",
   "metadata": {},
   "source": [
    "Tracking?"
   ]
  },
  {
   "cell_type": "code",
   "execution_count": 4,
   "metadata": {
    "collapsed": true
   },
   "outputs": [
    {
     "ename": "KeyError",
     "evalue": "'latitude'",
     "output_type": "error",
     "traceback": [
      "\u001b[0;31m---------------------------------------------------------------------------\u001b[0m",
      "\u001b[0;31mKeyError\u001b[0m                                  Traceback (most recent call last)",
      "\u001b[0;32m/tmp/ipykernel_79461/998970405.py\u001b[0m in \u001b[0;36m<module>\u001b[0;34m\u001b[0m\n\u001b[0;32m----> 1\u001b[0;31m \u001b[0midx\u001b[0m \u001b[0;34m=\u001b[0m \u001b[0mnp\u001b[0m\u001b[0;34m.\u001b[0m\u001b[0margsort\u001b[0m\u001b[0;34m(\u001b[0m\u001b[0mzeta\u001b[0m\u001b[0;34m.\u001b[0m\u001b[0misel\u001b[0m\u001b[0;34m(\u001b[0m\u001b[0mlevel\u001b[0m\u001b[0;34m=\u001b[0m\u001b[0;36m1\u001b[0m\u001b[0;34m,\u001b[0m\u001b[0mtime\u001b[0m\u001b[0;34m=\u001b[0m\u001b[0;36m0\u001b[0m\u001b[0;34m)\u001b[0m\u001b[0;34m.\u001b[0m\u001b[0mstack\u001b[0m\u001b[0;34m(\u001b[0m\u001b[0mn\u001b[0m\u001b[0;34m=\u001b[0m\u001b[0;34m[\u001b[0m\u001b[0;34m'latitude'\u001b[0m\u001b[0;34m,\u001b[0m\u001b[0;34m'longitude'\u001b[0m\u001b[0;34m]\u001b[0m\u001b[0;34m)\u001b[0m\u001b[0;34m.\u001b[0m\u001b[0mvalues\u001b[0m\u001b[0;34m)\u001b[0m\u001b[0;34m\u001b[0m\u001b[0;34m\u001b[0m\u001b[0m\n\u001b[0m\u001b[1;32m      2\u001b[0m \u001b[0mzeta\u001b[0m\u001b[0;34m.\u001b[0m\u001b[0misel\u001b[0m\u001b[0;34m(\u001b[0m\u001b[0mlevel\u001b[0m\u001b[0;34m=\u001b[0m\u001b[0;36m1\u001b[0m\u001b[0;34m,\u001b[0m\u001b[0mtime\u001b[0m\u001b[0;34m=\u001b[0m\u001b[0;36m0\u001b[0m\u001b[0;34m)\u001b[0m\u001b[0;34m.\u001b[0m\u001b[0mstack\u001b[0m\u001b[0;34m(\u001b[0m\u001b[0mn\u001b[0m\u001b[0;34m=\u001b[0m\u001b[0;34m[\u001b[0m\u001b[0;34m'latitude'\u001b[0m\u001b[0;34m,\u001b[0m\u001b[0;34m'longitude'\u001b[0m\u001b[0;34m]\u001b[0m\u001b[0;34m)\u001b[0m\u001b[0;34m.\u001b[0m\u001b[0mvalues\u001b[0m\u001b[0;34m[\u001b[0m\u001b[0midx\u001b[0m\u001b[0;34m[\u001b[0m\u001b[0;34m-\u001b[0m\u001b[0;36m5\u001b[0m\u001b[0;34m:\u001b[0m\u001b[0;34m]\u001b[0m\u001b[0;34m]\u001b[0m\u001b[0;34m\u001b[0m\u001b[0;34m\u001b[0m\u001b[0m\n",
      "\u001b[0;32m~/miniconda3/envs/torch_env/lib/python3.7/site-packages/xarray/core/dataarray.py\u001b[0m in \u001b[0;36mstack\u001b[0;34m(self, dimensions, **dimensions_kwargs)\u001b[0m\n\u001b[1;32m   2070\u001b[0m         \u001b[0mDataArray\u001b[0m\u001b[0;34m.\u001b[0m\u001b[0munstack\u001b[0m\u001b[0;34m\u001b[0m\u001b[0;34m\u001b[0m\u001b[0m\n\u001b[1;32m   2071\u001b[0m         \"\"\"\n\u001b[0;32m-> 2072\u001b[0;31m         \u001b[0mds\u001b[0m \u001b[0;34m=\u001b[0m \u001b[0mself\u001b[0m\u001b[0;34m.\u001b[0m\u001b[0m_to_temp_dataset\u001b[0m\u001b[0;34m(\u001b[0m\u001b[0;34m)\u001b[0m\u001b[0;34m.\u001b[0m\u001b[0mstack\u001b[0m\u001b[0;34m(\u001b[0m\u001b[0mdimensions\u001b[0m\u001b[0;34m,\u001b[0m \u001b[0;34m**\u001b[0m\u001b[0mdimensions_kwargs\u001b[0m\u001b[0;34m)\u001b[0m\u001b[0;34m\u001b[0m\u001b[0;34m\u001b[0m\u001b[0m\n\u001b[0m\u001b[1;32m   2073\u001b[0m         \u001b[0;32mreturn\u001b[0m \u001b[0mself\u001b[0m\u001b[0;34m.\u001b[0m\u001b[0m_from_temp_dataset\u001b[0m\u001b[0;34m(\u001b[0m\u001b[0mds\u001b[0m\u001b[0;34m)\u001b[0m\u001b[0;34m\u001b[0m\u001b[0;34m\u001b[0m\u001b[0m\n\u001b[1;32m   2074\u001b[0m \u001b[0;34m\u001b[0m\u001b[0m\n",
      "\u001b[0;32m~/miniconda3/envs/torch_env/lib/python3.7/site-packages/xarray/core/dataset.py\u001b[0m in \u001b[0;36mstack\u001b[0;34m(self, dimensions, **dimensions_kwargs)\u001b[0m\n\u001b[1;32m   3774\u001b[0m         \u001b[0mresult\u001b[0m \u001b[0;34m=\u001b[0m \u001b[0mself\u001b[0m\u001b[0;34m\u001b[0m\u001b[0;34m\u001b[0m\u001b[0m\n\u001b[1;32m   3775\u001b[0m         \u001b[0;32mfor\u001b[0m \u001b[0mnew_dim\u001b[0m\u001b[0;34m,\u001b[0m \u001b[0mdims\u001b[0m \u001b[0;32min\u001b[0m \u001b[0mdimensions\u001b[0m\u001b[0;34m.\u001b[0m\u001b[0mitems\u001b[0m\u001b[0;34m(\u001b[0m\u001b[0;34m)\u001b[0m\u001b[0;34m:\u001b[0m\u001b[0;34m\u001b[0m\u001b[0;34m\u001b[0m\u001b[0m\n\u001b[0;32m-> 3776\u001b[0;31m             \u001b[0mresult\u001b[0m \u001b[0;34m=\u001b[0m \u001b[0mresult\u001b[0m\u001b[0;34m.\u001b[0m\u001b[0m_stack_once\u001b[0m\u001b[0;34m(\u001b[0m\u001b[0mdims\u001b[0m\u001b[0;34m,\u001b[0m \u001b[0mnew_dim\u001b[0m\u001b[0;34m)\u001b[0m\u001b[0;34m\u001b[0m\u001b[0;34m\u001b[0m\u001b[0m\n\u001b[0m\u001b[1;32m   3777\u001b[0m         \u001b[0;32mreturn\u001b[0m \u001b[0mresult\u001b[0m\u001b[0;34m\u001b[0m\u001b[0;34m\u001b[0m\u001b[0m\n\u001b[1;32m   3778\u001b[0m \u001b[0;34m\u001b[0m\u001b[0m\n",
      "\u001b[0;32m~/miniconda3/envs/torch_env/lib/python3.7/site-packages/xarray/core/dataset.py\u001b[0m in \u001b[0;36m_stack_once\u001b[0;34m(self, dims, new_dim)\u001b[0m\n\u001b[1;32m   3726\u001b[0m \u001b[0;34m\u001b[0m\u001b[0m\n\u001b[1;32m   3727\u001b[0m         \u001b[0;31m# consider dropping levels that are unused?\u001b[0m\u001b[0;34m\u001b[0m\u001b[0;34m\u001b[0m\u001b[0;34m\u001b[0m\u001b[0m\n\u001b[0;32m-> 3728\u001b[0;31m         \u001b[0mlevels\u001b[0m \u001b[0;34m=\u001b[0m \u001b[0;34m[\u001b[0m\u001b[0mself\u001b[0m\u001b[0;34m.\u001b[0m\u001b[0mget_index\u001b[0m\u001b[0;34m(\u001b[0m\u001b[0mdim\u001b[0m\u001b[0;34m)\u001b[0m \u001b[0;32mfor\u001b[0m \u001b[0mdim\u001b[0m \u001b[0;32min\u001b[0m \u001b[0mdims\u001b[0m\u001b[0;34m]\u001b[0m\u001b[0;34m\u001b[0m\u001b[0;34m\u001b[0m\u001b[0m\n\u001b[0m\u001b[1;32m   3729\u001b[0m         \u001b[0midx\u001b[0m \u001b[0;34m=\u001b[0m \u001b[0mutils\u001b[0m\u001b[0;34m.\u001b[0m\u001b[0mmultiindex_from_product_levels\u001b[0m\u001b[0;34m(\u001b[0m\u001b[0mlevels\u001b[0m\u001b[0;34m,\u001b[0m \u001b[0mnames\u001b[0m\u001b[0;34m=\u001b[0m\u001b[0mdims\u001b[0m\u001b[0;34m)\u001b[0m\u001b[0;34m\u001b[0m\u001b[0;34m\u001b[0m\u001b[0m\n\u001b[1;32m   3730\u001b[0m         \u001b[0mvariables\u001b[0m\u001b[0;34m[\u001b[0m\u001b[0mnew_dim\u001b[0m\u001b[0;34m]\u001b[0m \u001b[0;34m=\u001b[0m \u001b[0mIndexVariable\u001b[0m\u001b[0;34m(\u001b[0m\u001b[0mnew_dim\u001b[0m\u001b[0;34m,\u001b[0m \u001b[0midx\u001b[0m\u001b[0;34m)\u001b[0m\u001b[0;34m\u001b[0m\u001b[0;34m\u001b[0m\u001b[0m\n",
      "\u001b[0;32m~/miniconda3/envs/torch_env/lib/python3.7/site-packages/xarray/core/dataset.py\u001b[0m in \u001b[0;36m<listcomp>\u001b[0;34m(.0)\u001b[0m\n\u001b[1;32m   3726\u001b[0m \u001b[0;34m\u001b[0m\u001b[0m\n\u001b[1;32m   3727\u001b[0m         \u001b[0;31m# consider dropping levels that are unused?\u001b[0m\u001b[0;34m\u001b[0m\u001b[0;34m\u001b[0m\u001b[0;34m\u001b[0m\u001b[0m\n\u001b[0;32m-> 3728\u001b[0;31m         \u001b[0mlevels\u001b[0m \u001b[0;34m=\u001b[0m \u001b[0;34m[\u001b[0m\u001b[0mself\u001b[0m\u001b[0;34m.\u001b[0m\u001b[0mget_index\u001b[0m\u001b[0;34m(\u001b[0m\u001b[0mdim\u001b[0m\u001b[0;34m)\u001b[0m \u001b[0;32mfor\u001b[0m \u001b[0mdim\u001b[0m \u001b[0;32min\u001b[0m \u001b[0mdims\u001b[0m\u001b[0;34m]\u001b[0m\u001b[0;34m\u001b[0m\u001b[0;34m\u001b[0m\u001b[0m\n\u001b[0m\u001b[1;32m   3729\u001b[0m         \u001b[0midx\u001b[0m \u001b[0;34m=\u001b[0m \u001b[0mutils\u001b[0m\u001b[0;34m.\u001b[0m\u001b[0mmultiindex_from_product_levels\u001b[0m\u001b[0;34m(\u001b[0m\u001b[0mlevels\u001b[0m\u001b[0;34m,\u001b[0m \u001b[0mnames\u001b[0m\u001b[0;34m=\u001b[0m\u001b[0mdims\u001b[0m\u001b[0;34m)\u001b[0m\u001b[0;34m\u001b[0m\u001b[0;34m\u001b[0m\u001b[0m\n\u001b[1;32m   3730\u001b[0m         \u001b[0mvariables\u001b[0m\u001b[0;34m[\u001b[0m\u001b[0mnew_dim\u001b[0m\u001b[0;34m]\u001b[0m \u001b[0;34m=\u001b[0m \u001b[0mIndexVariable\u001b[0m\u001b[0;34m(\u001b[0m\u001b[0mnew_dim\u001b[0m\u001b[0;34m,\u001b[0m \u001b[0midx\u001b[0m\u001b[0;34m)\u001b[0m\u001b[0;34m\u001b[0m\u001b[0;34m\u001b[0m\u001b[0m\n",
      "\u001b[0;32m~/miniconda3/envs/torch_env/lib/python3.7/site-packages/xarray/core/common.py\u001b[0m in \u001b[0;36mget_index\u001b[0;34m(self, key)\u001b[0m\n\u001b[1;32m    402\u001b[0m         \u001b[0;34m\"\"\"Get an index for a dimension, with fall-back to a default RangeIndex\"\"\"\u001b[0m\u001b[0;34m\u001b[0m\u001b[0;34m\u001b[0m\u001b[0m\n\u001b[1;32m    403\u001b[0m         \u001b[0;32mif\u001b[0m \u001b[0mkey\u001b[0m \u001b[0;32mnot\u001b[0m \u001b[0;32min\u001b[0m \u001b[0mself\u001b[0m\u001b[0;34m.\u001b[0m\u001b[0mdims\u001b[0m\u001b[0;34m:\u001b[0m\u001b[0;34m\u001b[0m\u001b[0;34m\u001b[0m\u001b[0m\n\u001b[0;32m--> 404\u001b[0;31m             \u001b[0;32mraise\u001b[0m \u001b[0mKeyError\u001b[0m\u001b[0;34m(\u001b[0m\u001b[0mkey\u001b[0m\u001b[0;34m)\u001b[0m\u001b[0;34m\u001b[0m\u001b[0;34m\u001b[0m\u001b[0m\n\u001b[0m\u001b[1;32m    405\u001b[0m \u001b[0;34m\u001b[0m\u001b[0m\n\u001b[1;32m    406\u001b[0m         \u001b[0;32mtry\u001b[0m\u001b[0;34m:\u001b[0m\u001b[0;34m\u001b[0m\u001b[0;34m\u001b[0m\u001b[0m\n",
      "\u001b[0;31mKeyError\u001b[0m: 'latitude'"
     ]
    }
   ],
   "source": [
    "idx = np.argsort(zeta.isel(level=1,time=0).stack(n=['latitude','longitude']).values)\n",
    "zeta.isel(level=1,time=0).stack(n=['latitude','longitude']).values[idx[-5:]]"
   ]
  }
 ],
 "metadata": {
  "kernelspec": {
   "display_name": "torch_env",
   "language": "python",
   "name": "torch_env"
  },
  "language_info": {
   "codemirror_mode": {
    "name": "ipython",
    "version": 3
   },
   "file_extension": ".py",
   "mimetype": "text/x-python",
   "name": "python",
   "nbconvert_exporter": "python",
   "pygments_lexer": "ipython3",
   "version": "3.7.6"
  },
  "toc": {
   "base_numbering": 1,
   "nav_menu": {},
   "number_sections": true,
   "sideBar": true,
   "skip_h1_title": false,
   "title_cell": "Table of Contents",
   "title_sidebar": "Contents",
   "toc_cell": false,
   "toc_position": {},
   "toc_section_display": true,
   "toc_window_display": false
  }
 },
 "nbformat": 4,
 "nbformat_minor": 5
}
